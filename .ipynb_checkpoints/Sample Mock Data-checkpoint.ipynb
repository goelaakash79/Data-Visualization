{
 "cells": [
  {
   "cell_type": "code",
   "execution_count": 2,
   "metadata": {},
   "outputs": [],
   "source": [
    "import pandas as pd\n",
    "from matplotlib import pyplot as plt"
   ]
  },
  {
   "cell_type": "code",
   "execution_count": 3,
   "metadata": {},
   "outputs": [],
   "source": [
    "data = pd.read_csv('sample.csv')"
   ]
  },
  {
   "cell_type": "code",
   "execution_count": 5,
   "metadata": {},
   "outputs": [
    {
     "data": {
      "text/html": [
       "<div>\n",
       "<style scoped>\n",
       "    .dataframe tbody tr th:only-of-type {\n",
       "        vertical-align: middle;\n",
       "    }\n",
       "\n",
       "    .dataframe tbody tr th {\n",
       "        vertical-align: top;\n",
       "    }\n",
       "\n",
       "    .dataframe thead th {\n",
       "        text-align: right;\n",
       "    }\n",
       "</style>\n",
       "<table border=\"1\" class=\"dataframe\">\n",
       "  <thead>\n",
       "    <tr style=\"text-align: right;\">\n",
       "      <th></th>\n",
       "      <th>id</th>\n",
       "      <th>name</th>\n",
       "      <th>email</th>\n",
       "      <th>gender</th>\n",
       "      <th>mobile</th>\n",
       "      <th>website</th>\n",
       "    </tr>\n",
       "  </thead>\n",
       "  <tbody>\n",
       "    <tr>\n",
       "      <th>0</th>\n",
       "      <td>1</td>\n",
       "      <td>Nollie Tomkies</td>\n",
       "      <td>ntomkies0@dion.ne.jp</td>\n",
       "      <td>Female</td>\n",
       "      <td>486-106-8915</td>\n",
       "      <td>https://infoseek.co.jp/nulla.png?cursus=sit&amp;id...</td>\n",
       "    </tr>\n",
       "    <tr>\n",
       "      <th>1</th>\n",
       "      <td>2</td>\n",
       "      <td>Paddy Pietruschka</td>\n",
       "      <td>ppietruschka1@themeforest.net</td>\n",
       "      <td>Male</td>\n",
       "      <td>136-842-1373</td>\n",
       "      <td>http://gmpg.org/cras.jpg?faucibus=pretium&amp;accu...</td>\n",
       "    </tr>\n",
       "    <tr>\n",
       "      <th>2</th>\n",
       "      <td>3</td>\n",
       "      <td>Susie Weare</td>\n",
       "      <td>sweare2@mlb.com</td>\n",
       "      <td>Female</td>\n",
       "      <td>452-483-3939</td>\n",
       "      <td>https://rambler.ru/curabitur/convallis/duis.js...</td>\n",
       "    </tr>\n",
       "    <tr>\n",
       "      <th>3</th>\n",
       "      <td>4</td>\n",
       "      <td>Weber Penella</td>\n",
       "      <td>wpenella3@google.nl</td>\n",
       "      <td>Male</td>\n",
       "      <td>333-382-3851</td>\n",
       "      <td>http://multiply.com/integer/non/velit.xml?lore...</td>\n",
       "    </tr>\n",
       "    <tr>\n",
       "      <th>4</th>\n",
       "      <td>5</td>\n",
       "      <td>Ailbert Proppers</td>\n",
       "      <td>aproppers4@kickstarter.com</td>\n",
       "      <td>Male</td>\n",
       "      <td>119-835-6593</td>\n",
       "      <td>http://youtu.be/morbi/non/lectus/aliquam/sit/a...</td>\n",
       "    </tr>\n",
       "  </tbody>\n",
       "</table>\n",
       "</div>"
      ],
      "text/plain": [
       "   id               name                          email  gender        mobile  \\\n",
       "0   1     Nollie Tomkies           ntomkies0@dion.ne.jp  Female  486-106-8915   \n",
       "1   2  Paddy Pietruschka  ppietruschka1@themeforest.net    Male  136-842-1373   \n",
       "2   3        Susie Weare                sweare2@mlb.com  Female  452-483-3939   \n",
       "3   4      Weber Penella            wpenella3@google.nl    Male  333-382-3851   \n",
       "4   5   Ailbert Proppers     aproppers4@kickstarter.com    Male  119-835-6593   \n",
       "\n",
       "                                             website  \n",
       "0  https://infoseek.co.jp/nulla.png?cursus=sit&id...  \n",
       "1  http://gmpg.org/cras.jpg?faucibus=pretium&accu...  \n",
       "2  https://rambler.ru/curabitur/convallis/duis.js...  \n",
       "3  http://multiply.com/integer/non/velit.xml?lore...  \n",
       "4  http://youtu.be/morbi/non/lectus/aliquam/sit/a...  "
      ]
     },
     "execution_count": 5,
     "metadata": {},
     "output_type": "execute_result"
    }
   ],
   "source": [
    "data.head()"
   ]
  },
  {
   "cell_type": "code",
   "execution_count": 13,
   "metadata": {},
   "outputs": [],
   "source": [
    "name = data['name']\n",
    "email = data['email']\n",
    "mobile = data['mobile']\n",
    "male = data[data.gender == 'Male']\n",
    "female = data[data.gender == 'Female']"
   ]
  },
  {
   "cell_type": "code",
   "execution_count": 15,
   "metadata": {},
   "outputs": [],
   "source": [
    "no_male = len(male)\n",
    "no_female = len(female)\n",
    "no = len(name)\n",
    "print (no_male)\n",
    "print (no_female)\n",
    "print (no)"
   ]
  },
  {
   "cell_type": "code",
   "execution_count": 17,
   "metadata": {},
   "outputs": [
    {
     "data": {
      "image/png": "[encoded data removed]",
      "text/plain": [
       "<Figure size 432x288 with 1 Axes>"
      ]
     },
     "metadata": {},
     "output_type": "display_data"
    }
   ],
   "source": [
    "plt.plot(no_male, no)\n",
    "plt.plot(no_female, no)\n",
    "plt.title('Ratio of Males to Females')\n",
    "plt.xlabel('Total Number of people')\n",
    "plt.ylabel('Gender')\n",
    "plt.legend(['Males', 'Females'])\n",
    "plt.show()"
   ]
  },
  {
   "cell_type": "code",
   "execution_count": null,
   "metadata": {},
   "outputs": [],
   "source": []
  }
 ],
 "metadata": {
  "kernelspec": {
   "display_name": "Python 3",
   "language": "python",
   "name": "python3"
  },
  "language_info": {
   "codemirror_mode": {
    "name": "ipython",
    "version": 3
   },
   "file_extension": ".py",
   "mimetype": "text/x-python",
   "name": "python",
   "nbconvert_exporter": "python",
   "pygments_lexer": "ipython3",
   "version": "3.6.5"
  }
 },
 "nbformat": 4,
 "nbformat_minor": 2
}
